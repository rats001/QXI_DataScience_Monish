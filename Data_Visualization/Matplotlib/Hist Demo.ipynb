{
 "cells": [
  {
   "cell_type": "code",
   "execution_count": 20,
   "metadata": {},
   "outputs": [],
   "source": [
    "import matplotlib.pyplot as plt\n",
    "import numpy as np"
   ]
  },
  {
   "cell_type": "code",
   "execution_count": 13,
   "metadata": {},
   "outputs": [],
   "source": [
    "df = np.arange(1,10,1)"
   ]
  },
  {
   "cell_type": "code",
   "execution_count": 14,
   "metadata": {},
   "outputs": [
    {
     "data": {
      "text/plain": [
       "array([1, 2, 3, 4, 5, 6, 7, 8, 9])"
      ]
     },
     "execution_count": 14,
     "metadata": {},
     "output_type": "execute_result"
    }
   ],
   "source": [
    "df"
   ]
  },
  {
   "cell_type": "code",
   "execution_count": 28,
   "metadata": {},
   "outputs": [],
   "source": [
    "# x = np.random.normal(size = 2000)\n",
    "# x = np.random.normal(100,2000,100)\n",
    "x = np.random.normal(size=1000)"
   ]
  },
  {
   "cell_type": "code",
   "execution_count": 29,
   "metadata": {},
   "outputs": [
    {
     "data": {
      "text/plain": [
       "array([ 1.21149060e+00, -8.14525726e-02,  8.71449423e-01,  5.14770517e-01,\n",
       "       -9.04550381e-01,  4.92814296e-01,  1.63481667e-01,  1.92502914e-01,\n",
       "       -7.18442611e-01,  2.50029752e-01,  4.85092727e-01,  1.19411490e+00,\n",
       "       -1.76217671e+00,  4.50615819e-01,  2.41339113e-01,  6.40456818e-01,\n",
       "        1.12446118e+00, -5.29965918e-01, -4.75708298e-01,  2.31473798e-01,\n",
       "        4.68884885e-01, -3.30153451e-01, -5.89986828e-01,  1.79579802e+00,\n",
       "        8.47985341e-01,  1.40104437e-01,  1.20483266e+00, -6.34471198e-01,\n",
       "       -3.27835930e-01, -1.48887891e+00, -3.49582074e-01,  3.51617666e-01,\n",
       "        3.79917238e-01, -1.54061117e+00, -6.92977109e-01,  6.69586113e-01,\n",
       "        5.07564731e-01, -1.26506219e+00,  1.16637017e+00,  1.45907145e+00,\n",
       "        9.79963892e-02, -1.38196829e+00, -3.32917802e-01,  5.61526282e-01,\n",
       "        7.79833784e-02, -2.74686507e-01,  1.39714978e-01,  1.34666365e+00,\n",
       "       -5.39770741e-01,  2.02664185e+00, -1.76385800e-01,  1.31868888e-01,\n",
       "        3.63565665e-01, -2.02459346e+00,  3.37836642e-02,  1.25988791e+00,\n",
       "        1.60143904e-01,  6.03004026e-01,  5.31575146e-01,  2.88101054e-01,\n",
       "       -6.77476666e-01,  9.60011712e-02, -1.47064320e+00, -1.11068878e+00,\n",
       "        7.88757482e-01, -4.34109587e-02, -1.07035945e+00, -7.15037826e-01,\n",
       "       -6.54245174e-01,  5.19922378e-01, -3.10140038e-01,  1.39365274e+00,\n",
       "        7.46264075e-01, -1.46827341e+00, -1.24261169e-01,  1.50315051e+00,\n",
       "       -7.38669646e-01,  1.23837517e-01, -6.56379906e-01, -7.11559594e-01,\n",
       "       -2.57294926e-01,  1.01234109e+00, -1.45748865e+00,  5.97879490e-01,\n",
       "       -2.16259149e+00,  1.43789388e+00, -1.62949300e-03, -3.69243589e-01,\n",
       "        1.02269933e-01, -5.77697237e-01, -8.59693528e-01, -2.97480879e-01,\n",
       "       -1.77390539e+00,  1.57006335e+00, -9.86762927e-01, -3.70037757e-01,\n",
       "       -1.45291472e+00,  6.26830328e-01,  8.53672164e-01, -7.94696486e-01,\n",
       "        2.29946368e+00,  1.15727033e-01, -3.51957210e-01, -8.60146857e-01,\n",
       "        1.17949710e+00,  7.30636440e-01, -4.22992611e-01, -1.10038249e+00,\n",
       "        5.25342471e-01, -2.09098443e+00,  1.72424367e+00, -1.79780345e+00,\n",
       "        8.21485610e-01,  2.19159455e+00, -2.99844473e-01,  1.17162519e+00,\n",
       "        1.20909020e+00, -2.09581058e-01,  2.08961818e-01, -3.24939701e-01,\n",
       "       -2.91525922e-01, -4.23978891e-01, -9.89585028e-01, -1.24984048e+00,\n",
       "       -2.18840374e-01,  6.74861698e-01,  1.19440056e+00, -5.35731731e-01,\n",
       "       -4.74934695e-01,  1.63369367e+00, -9.79067406e-01, -2.65244379e-01,\n",
       "        5.48398757e-01, -1.04879374e+00,  8.09735752e-02,  7.92778487e-02,\n",
       "       -1.95855599e+00,  1.25091412e+00,  6.67098809e-02,  1.57028040e-01,\n",
       "        6.10766748e-01,  8.94167622e-02, -2.43379096e-01,  1.62872074e-01,\n",
       "        1.00393201e+00, -1.29136498e+00, -4.85949861e-01,  5.84973876e-01,\n",
       "       -1.78121878e-01, -1.04990375e+00, -6.34217388e-01, -1.83765175e-01,\n",
       "       -2.25688017e+00, -5.95159880e-01, -7.16654360e-01,  1.98222063e+00,\n",
       "        2.44465159e-02,  4.74414988e-01, -6.45061597e-01,  4.35847278e-01,\n",
       "        2.56380950e-01, -1.15077967e+00,  5.19683730e-01, -1.23927440e-01,\n",
       "       -5.31504411e-01, -9.04580301e-01,  4.63446670e-01, -5.25137450e-01,\n",
       "        6.44885039e-01,  9.45392375e-01, -1.00071873e+00,  1.19101610e-01,\n",
       "       -3.78148367e-01,  1.67048899e+00,  3.11098771e-01, -2.46769401e-01,\n",
       "       -8.86583836e-02, -1.41687111e+00, -6.03871693e-01, -1.04071376e+00,\n",
       "       -6.21184530e-01, -4.62827126e-01,  8.03065239e-01, -1.16737244e-01,\n",
       "        3.35451595e-01, -7.84221301e-01, -1.01590533e+00,  1.03696855e-01,\n",
       "        1.87855749e-01, -2.68139594e+00,  4.18825657e-01, -1.73183482e+00,\n",
       "       -9.18685739e-01, -1.96596205e-01,  1.89594756e+00,  1.60627956e+00,\n",
       "       -3.01727026e-02,  1.38397333e-01,  2.77233329e-01,  4.01046200e-01,\n",
       "        8.88770529e-01,  7.22451146e-01,  1.78747957e+00, -7.68596128e-01,\n",
       "        9.34595906e-01,  3.71870608e-01,  8.26635895e-01,  3.07478054e-01,\n",
       "       -1.39340960e+00, -9.09862836e-01,  1.00687664e+00,  7.66092729e-01,\n",
       "       -3.20838109e-01,  9.18099972e-01,  7.84997547e-01, -2.47919601e-01,\n",
       "       -6.59201075e-01, -4.54633543e-01, -3.03970324e-01, -1.50120912e+00,\n",
       "       -1.10162009e+00, -4.09002249e-02, -1.35617413e+00,  1.53078607e+00,\n",
       "       -1.68069812e+00,  1.30919135e+00,  8.72123917e-02, -1.39889231e+00,\n",
       "        3.15890511e+00,  5.28520650e-01, -7.52920097e-01, -9.27574136e-01,\n",
       "       -1.14304893e+00, -2.29091421e+00,  6.73782304e-01, -7.87400007e-01,\n",
       "       -4.41655439e-01, -1.29555433e+00,  3.51675686e-01, -6.70871370e-02,\n",
       "        1.80473207e-01, -1.10958997e+00,  3.81831916e-01,  7.03403766e-01,\n",
       "       -2.38438749e-01, -2.95370043e-01,  7.97823720e-01, -6.52143031e-02,\n",
       "        2.99064668e-01, -1.08953696e+00, -1.00007208e+00, -4.82576094e-02,\n",
       "       -1.22446111e-01,  5.77156595e-02,  5.54901623e-01, -8.87832554e-02,\n",
       "        1.09045567e+00,  2.22499776e+00,  1.75826707e-01,  1.35153058e+00,\n",
       "        6.84763165e-01,  6.03598581e-01,  8.48252007e-01,  5.71269378e-01,\n",
       "       -4.94206483e-01,  2.79147118e-01, -7.45254825e-01, -2.26988032e-01,\n",
       "       -1.95781472e+00, -3.50936959e-01,  1.81649671e+00, -3.85187758e-01,\n",
       "        1.07946215e+00, -1.90816685e-01, -8.91486832e-01, -9.48359959e-01,\n",
       "       -5.42777092e-01,  5.08404565e-01, -4.45429987e-01,  1.52438857e+00,\n",
       "       -4.72173725e-01, -8.61004324e-01, -6.39768685e-01,  8.67759329e-01,\n",
       "       -9.30412600e-01,  1.21806101e+00,  1.18685448e+00, -9.36078862e-01,\n",
       "       -7.53447843e-01, -2.57581422e-01,  4.82420414e-01,  6.89590406e-01,\n",
       "        1.53187835e+00,  6.41232613e-01, -3.63816438e-01, -7.63651091e-01,\n",
       "       -6.59799438e-01,  9.45136962e-01, -2.40895465e-01,  1.66516357e+00,\n",
       "       -1.17875900e+00,  1.11039476e+00,  1.93978084e-01, -1.78503910e+00,\n",
       "       -4.50147326e-01,  4.19058539e-02,  2.68866740e-01,  6.54172749e-01,\n",
       "       -1.82481056e+00,  2.11747801e-01, -1.28407644e-01, -1.66471058e+00,\n",
       "        4.33320586e-01,  4.03453649e-01,  4.29586427e-01, -9.55060741e-01,\n",
       "        5.44630510e-01, -8.95827155e-01, -4.37936756e-01,  4.97738907e-01,\n",
       "        3.66203039e-01,  3.39757718e-01, -4.95020211e-01, -9.84407850e-01,\n",
       "        1.00530981e-01,  2.22524383e-01, -1.17585215e+00,  3.79333788e-01,\n",
       "        1.97825960e+00, -7.68599505e-01, -1.69179864e-01, -8.43581862e-01,\n",
       "       -6.10144134e-01,  1.54454414e+00, -9.90903130e-01, -9.61150472e-01,\n",
       "        2.24374187e-01,  1.10922452e+00, -1.60025907e-01, -2.21778437e+00,\n",
       "       -4.61120662e-01, -7.77615281e-01,  1.71276615e-01, -1.17748227e+00,\n",
       "        7.67386930e-01,  4.33774393e-01, -5.12172959e-01,  3.30268616e-01,\n",
       "       -3.57857644e-01,  6.11649274e-01, -1.32520546e+00, -7.88199918e-01,\n",
       "       -5.14298476e-01,  7.63265750e-01,  1.68240641e+00,  4.66436492e-01,\n",
       "        1.19418382e+00,  1.19532524e+00,  8.02201401e-02,  2.17252197e-02,\n",
       "        1.81314472e-01,  8.88482295e-01,  6.12794427e-01,  6.38657588e-01,\n",
       "        1.40836136e-03, -9.88236265e-01,  1.06443802e+00, -1.99921564e+00,\n",
       "       -4.38451971e-01,  1.32690667e-01, -7.17995284e-02, -1.52941490e-01,\n",
       "       -1.85967614e-01, -3.44659608e-01,  3.52133631e-01,  1.74430170e+00,\n",
       "       -3.61216343e-01, -1.42736255e+00, -1.85563023e-01, -1.26644521e+00,\n",
       "        6.55211871e-01,  7.84543951e-01,  1.34338499e+00,  7.50971357e-01,\n",
       "       -2.80243332e+00, -1.01748240e+00, -7.48851936e-01,  2.27659283e+00,\n",
       "        4.06411627e-02, -4.45361663e-01, -1.16725903e+00, -3.93193537e-01,\n",
       "        1.02928327e+00,  8.90041751e-01,  8.05371349e-02,  1.06981748e+00,\n",
       "        1.70756461e+00, -3.16574907e-01, -2.56410296e+00,  2.62603314e-01,\n",
       "       -8.41199374e-01, -5.24673467e-02,  1.91680421e+00, -3.17082270e-02,\n",
       "       -6.24305715e-01, -9.92180602e-01, -6.20738537e-01,  1.73442863e-01,\n",
       "       -1.11251025e-01,  5.06766955e-01, -1.04089327e+00,  2.34838946e-01,\n",
       "       -6.66799844e-01, -3.60291844e-01,  1.86121265e+00,  8.48264353e-01,\n",
       "        3.13232388e-01,  1.67406217e+00, -9.93901439e-01,  2.15351285e+00,\n",
       "        7.45016421e-01,  1.99512544e+00, -4.01444866e-01,  3.57056679e-01,\n",
       "        1.39685010e-01,  4.08017960e-01,  8.86994654e-01,  2.98631099e-02,\n",
       "       -1.48586524e+00, -2.50795949e+00, -2.11762154e-01,  8.98307624e-01,\n",
       "        1.32405390e+00,  1.56860724e-01,  3.55816132e-01,  7.30617008e-01,\n",
       "        1.82592236e+00, -1.27032999e-01,  4.25935869e-01,  5.53015562e-01,\n",
       "       -3.24480039e-01, -5.71798460e-01,  1.39296237e+00, -7.37334563e-01,\n",
       "       -8.38784124e-02,  7.54703601e-01,  3.50709222e-01, -3.11989566e+00,\n",
       "        9.43470235e-01,  2.16188579e-01, -1.55536441e+00, -3.92407100e-01,\n",
       "        6.52908148e-01,  9.71950782e-01,  1.53198152e+00, -4.62780238e-01,\n",
       "        1.41335174e+00,  3.78539315e-01, -5.76129590e-01, -1.18420861e+00,\n",
       "        8.20128823e-01, -3.34151737e-01, -1.46812391e+00, -2.02652253e+00,\n",
       "        2.92213409e-01, -1.90687891e+00,  2.57976542e-01,  4.99340421e-01,\n",
       "        1.81312137e+00, -1.14998405e+00,  6.51923149e-01, -1.14757707e+00,\n",
       "       -1.12863347e-01,  2.04157677e-01,  6.67457768e-01, -8.08243803e-02,\n",
       "       -5.01259806e-01, -3.24258095e-01,  1.56917004e+00, -1.31374889e-01,\n",
       "        6.23614426e-01,  2.60660892e-02,  6.93959695e-01, -1.62260440e-01,\n",
       "       -2.28208131e-01,  1.19837525e+00, -5.87346321e-01,  1.27887595e+00,\n",
       "       -5.55252118e-01, -4.74342551e-01,  1.54560043e+00, -4.97187460e-01,\n",
       "        5.05307694e-01,  1.31652206e+00,  2.24260138e-01,  4.95953607e-01,\n",
       "        2.48765926e+00,  3.58510834e-01,  1.37336266e+00,  1.69307649e-01,\n",
       "       -1.86179539e-01,  1.18504224e+00, -1.12648366e-01,  1.10509226e+00,\n",
       "        1.14100726e+00, -4.53873399e-01,  2.48378889e+00, -1.00868962e+00,\n",
       "        1.05646469e+00, -1.35975304e+00,  1.44306301e+00, -2.06845879e-01,\n",
       "        1.42771547e+00, -7.92167523e-01,  2.20007303e+00,  9.45118641e-02,\n",
       "        1.23389413e-01,  7.66400971e-01,  5.33781579e-01,  2.79772356e+00,\n",
       "        1.19478624e+00, -4.29124347e-02, -2.22401908e-01, -4.84646115e-02,\n",
       "        1.21077885e-02, -9.43663774e-01, -3.28314520e-01, -1.42257515e-02,\n",
       "       -6.04754042e-01,  1.35876738e+00, -1.39738125e+00, -4.14347830e-01,\n",
       "        8.16812189e-01, -2.92940803e-01,  8.77782607e-01, -9.66395614e-01,\n",
       "       -5.38555649e-01,  6.71302101e-02,  7.91732620e-01,  1.64514285e+00,\n",
       "       -2.89478786e-01, -4.48741105e-01,  3.15666605e-01,  1.91916168e+00,\n",
       "       -2.06275377e-01, -2.61719298e-01, -1.08805165e+00,  9.31403534e-02,\n",
       "        3.37649132e-01,  1.05670639e+00, -2.16957755e-01, -1.69067959e+00,\n",
       "       -6.28116862e-01, -7.34798028e-01, -7.53350648e-02,  5.79594601e-01,\n",
       "       -6.15497151e-01,  1.33376541e+00,  8.49702601e-01, -2.90686065e-01,\n",
       "        1.62555407e+00, -6.32146089e-01, -1.04104848e+00, -3.07266578e-01,\n",
       "       -1.83562339e+00,  1.18036042e+00,  6.80211895e-01, -8.44473427e-01,\n",
       "        2.67442562e-01, -1.22360154e-01, -9.46747170e-01,  5.27978996e-01,\n",
       "        2.09795222e+00,  1.99849551e+00,  9.93801134e-01, -1.19375682e+00,\n",
       "       -1.23741184e+00, -3.58450402e-02, -1.46190073e-01,  1.64897284e-01,\n",
       "       -1.74527635e+00,  1.32852241e-02,  1.08261374e-01, -6.48928263e-02,\n",
       "       -7.60487895e-01, -1.51154203e+00, -1.85227622e+00, -8.64203282e-01,\n",
       "        5.50514130e-01,  8.06989893e-01,  1.69712861e+00, -6.25371676e-01,\n",
       "       -1.95393663e+00, -9.99710449e-01,  2.43405303e-01,  3.21104114e-01,\n",
       "       -2.81790670e-01, -1.03117698e+00, -2.31218299e-01,  2.45743491e-02,\n",
       "        1.24216846e+00, -9.31335952e-01, -6.73678244e-03, -9.17899794e-01,\n",
       "        5.26431913e-01,  9.18767455e-02,  1.01205397e+00, -4.71117544e-01,\n",
       "        1.33449717e+00,  6.57756668e-01,  3.35067460e-01, -3.22514964e-01,\n",
       "        1.19938667e-01,  3.28813725e-01,  1.05018584e+00, -7.15140466e-01,\n",
       "       -6.42897192e-01, -8.58218159e-01,  1.72294406e+00,  1.21194474e+00,\n",
       "       -2.28828756e-01, -6.11054416e-01,  1.63598881e-01,  1.85458297e+00,\n",
       "        9.57071019e-01, -1.23871891e+00,  4.36535537e-01,  8.02695850e-01,\n",
       "       -1.05910597e+00,  1.36869918e+00,  9.79628480e-01, -8.97054104e-02,\n",
       "       -3.38594903e-01,  1.20183399e+00,  3.61209625e-01, -1.50296610e-01,\n",
       "       -1.68493597e+00,  2.31751281e+00, -6.93231673e-01,  1.20152502e-01,\n",
       "       -1.26741784e-01, -2.99283267e-01, -5.37790299e-01,  2.40708086e-01,\n",
       "        2.46689964e-01,  3.87221141e-01,  1.00716723e+00, -9.92206111e-01,\n",
       "       -2.13530589e+00,  1.05843536e-01, -4.28333892e-01,  5.85183548e-01,\n",
       "        5.37921843e-01,  6.01613712e-01, -5.12577717e-01,  1.65373259e-01,\n",
       "        5.77002354e-02, -5.19905855e-01, -8.52679977e-01, -8.58543314e-02,\n",
       "        2.26511343e+00,  3.02268801e-02,  1.26804293e-01, -2.77391703e-01,\n",
       "        3.38770958e-01,  8.59422103e-01,  3.05747983e-01,  1.79827300e+00,\n",
       "        8.76754866e-02, -5.29420303e-01, -1.12885901e+00, -9.65662838e-01,\n",
       "        1.83763841e+00, -1.55545119e+00, -6.56042398e-01, -1.59734979e+00,\n",
       "        5.13019938e-01, -1.96550717e+00,  1.36676900e+00, -5.75634544e-02,\n",
       "        3.16919836e-01, -1.77170377e-01,  1.33113908e+00, -7.27877734e-02,\n",
       "        5.90159443e-01,  6.61058712e-01, -1.17989619e-01,  6.15040578e-01,\n",
       "       -8.84319987e-01, -8.98182723e-02,  1.41324752e+00,  4.01918657e-02,\n",
       "       -1.66622643e-01,  6.47708812e-01, -9.33911589e-01, -1.10658605e+00,\n",
       "        4.11319658e-01, -1.09056644e+00, -1.51991693e+00, -2.71327996e-01,\n",
       "       -1.09903484e-01, -2.05024496e+00,  1.03813699e+00,  8.54531957e-01,\n",
       "       -3.20023018e-01,  6.35072057e-01, -8.88801567e-01,  1.73124416e-02,\n",
       "       -6.24807057e-01,  8.31535029e-01, -5.93333410e-01,  7.30543864e-01,\n",
       "        8.59083316e-01, -1.76887002e-01, -3.01285111e-01, -2.49346658e-01,\n",
       "       -4.05454187e-02, -2.03422141e-01,  5.64496904e-01, -5.72574560e-02,\n",
       "        5.74233838e-01, -4.83316446e-01,  3.99787114e-02, -5.10949258e-01,\n",
       "       -1.46508168e+00, -1.43414007e+00, -4.32240855e-01,  6.23714095e-01,\n",
       "       -2.51140310e-01,  7.35271837e-02,  1.66811841e-01,  9.38328670e-01,\n",
       "       -4.73711466e-01,  8.55283874e-01,  3.00219142e-01, -5.59259601e-01,\n",
       "       -1.37739901e-01, -2.07292535e-02,  1.27744601e+00,  2.17119955e+00,\n",
       "       -3.26256829e-01,  1.44281936e+00,  1.81867956e+00,  8.20536670e-01,\n",
       "       -2.13542789e-02,  2.10680395e+00, -1.46689842e+00, -8.45936060e-03,\n",
       "        1.81297021e+00,  7.79013889e-02, -6.57201029e-01,  1.66948436e+00,\n",
       "        4.12856519e-01, -3.03816991e-01, -3.24521609e+00,  4.76003448e-01,\n",
       "        2.13712988e+00,  3.37094286e-01,  6.65441371e-01,  2.80527169e-01,\n",
       "        8.66051712e-01, -9.86172291e-01,  7.22943338e-02, -2.15879240e+00,\n",
       "       -5.85099360e-01, -1.54897816e+00,  6.03635123e-01,  1.26594377e+00,\n",
       "       -8.02020607e-01,  6.06213062e-01,  1.49016670e+00, -1.50195798e+00,\n",
       "        5.08031664e-01, -5.77712626e-02,  5.99330870e-01, -1.39129885e+00,\n",
       "        7.22503508e-02, -6.50907167e-01, -1.35413123e-01,  3.92005565e-01,\n",
       "        1.94643385e-01, -2.22845711e+00,  8.55401192e-01,  1.33957825e+00,\n",
       "       -2.00408249e+00,  4.03245982e-01, -2.04520121e+00, -7.18862744e-01,\n",
       "       -2.85181347e-01,  1.23957057e-01,  1.82674872e+00,  1.37063274e+00,\n",
       "        1.07954782e+00,  1.45331756e+00, -3.41666032e-01,  7.87245448e-02,\n",
       "        7.83195100e-01,  3.21786198e-01, -7.25361328e-01,  3.10108933e+00,\n",
       "        1.85542777e+00,  8.59803612e-01,  9.21010258e-01,  7.78206881e-01,\n",
       "       -2.35068928e-01,  4.62929172e-01,  2.28026055e-01,  2.49130565e-01,\n",
       "        9.28226537e-01, -5.39568635e-01, -1.15702932e+00, -2.15696155e+00,\n",
       "       -6.86281341e-02, -5.34378075e-01,  1.50186190e-01, -5.17237129e-02,\n",
       "       -1.63773222e-01,  8.14786190e-01, -5.59970989e-01,  1.91203721e+00,\n",
       "       -9.55143623e-02, -6.74743277e-01,  3.11871238e+00,  1.20586660e+00,\n",
       "        5.12527620e-01, -7.13825270e-01,  1.13924896e+00, -1.40476455e+00,\n",
       "       -1.19588715e+00, -4.24075090e-01, -8.93354209e-02,  1.12836569e+00,\n",
       "        1.14980520e+00,  2.35079641e-01, -4.30764332e-01,  7.45458906e-01,\n",
       "        2.33626606e+00, -3.96706657e-01, -9.21968790e-01,  1.48572999e-01,\n",
       "       -1.58712573e+00,  1.45055857e+00, -1.44700687e+00, -1.43863583e+00,\n",
       "        9.51093223e-01, -8.23188921e-01, -4.56909502e-01, -1.39112791e+00,\n",
       "        1.41869356e+00, -1.68526843e+00, -4.81420285e-01,  8.50495597e-01,\n",
       "       -3.71878105e-01, -1.31755764e+00, -2.15322948e-01,  8.65800020e-01,\n",
       "        4.55657044e-01,  6.80687505e-01,  6.27124164e-01,  8.46061260e-01,\n",
       "       -1.06381713e+00, -4.22698776e-01, -8.98944643e-01, -1.41341772e+00,\n",
       "       -1.06953256e+00,  1.65644207e+00,  3.87033635e-01,  3.36697153e-01,\n",
       "       -1.37720795e+00, -6.47022308e-01, -1.54262834e+00, -7.60951632e-02,\n",
       "       -1.68554714e+00,  2.50225118e+00,  1.94468500e+00, -4.39357885e-02,\n",
       "        1.76838625e+00,  2.70907857e+00,  7.51453677e-01,  3.05451820e-03,\n",
       "       -2.12018799e+00,  9.37380947e-01, -1.60856085e-01, -1.48544104e+00,\n",
       "        8.89511839e-01, -1.11835664e+00,  6.02613931e-01,  3.62424515e-01,\n",
       "        1.15443801e+00, -2.11858833e-01,  5.40362595e-02,  1.65837853e+00,\n",
       "        4.15295137e-01,  7.83612223e-01,  6.82147842e-01,  9.82482013e-01,\n",
       "        1.33607220e+00, -1.37287465e+00, -1.52375185e+00, -9.75093811e-01,\n",
       "       -1.74672106e+00, -8.30532424e-01, -1.10913785e+00,  1.24065402e+00,\n",
       "       -1.42118465e-01, -2.68104226e-01, -1.01001375e+00,  8.29929125e-01,\n",
       "        2.14020092e-01, -1.56420270e+00,  1.02040160e+00, -2.52377656e-01,\n",
       "       -1.51629920e+00, -5.14168499e-01, -2.40147348e-01,  1.11830812e+00,\n",
       "       -3.59621609e-01,  3.89971889e-01,  4.32692302e-01,  4.95866348e-01,\n",
       "       -5.41928367e-01,  9.59025533e-01, -5.02463756e-01,  3.53760923e-01,\n",
       "        1.53546388e-01,  1.14268942e-01, -6.93805483e-02, -1.95689473e+00,\n",
       "       -4.90634144e-01, -7.86209204e-02,  1.99754712e+00,  1.03626066e+00,\n",
       "       -1.43997584e+00,  4.03872216e-01, -1.81730830e+00, -1.28793536e+00,\n",
       "        5.52862436e-01,  8.42306147e-01, -1.18435550e+00,  6.82483985e-01,\n",
       "       -6.80003777e-02, -2.76052252e+00, -2.62969946e-01, -7.94779543e-01,\n",
       "       -2.25673919e-01,  1.95942673e+00,  4.68265755e-02, -3.94932505e-01,\n",
       "        3.11434758e-01, -2.27121827e-02, -4.88213043e-01, -6.64318077e-01,\n",
       "       -8.34903188e-02,  2.37588601e+00, -3.43216898e-01,  1.39703573e+00,\n",
       "       -7.39394729e-01,  8.59643613e-01, -1.02376851e+00,  8.03442897e-01,\n",
       "       -1.31561931e+00,  6.00084716e-01,  5.30763177e-01, -1.13483177e+00,\n",
       "        3.20657133e-01,  1.14407998e+00,  3.44079358e-01, -1.00140263e-01,\n",
       "        5.27987925e-01,  8.52516603e-01, -1.61995630e+00,  1.20805760e-01,\n",
       "        3.87144379e-01,  9.36898449e-03,  5.02129327e-02, -5.23002618e-01,\n",
       "        1.05290064e+00, -8.58729758e-01,  1.21864435e-01, -8.45940907e-01,\n",
       "        7.55015230e-01, -6.27255522e-01, -3.51232798e-01, -1.27490570e+00,\n",
       "       -1.01176187e+00,  3.82715092e-02, -6.89290445e-02, -5.69137761e-01,\n",
       "        1.44752009e+00,  4.37223134e-01, -1.65944300e+00, -5.69988286e-01,\n",
       "        5.94096764e-02, -6.25938591e-01,  1.82994069e+00,  3.00259329e-01,\n",
       "       -6.36869476e-01, -1.22456568e-01,  1.75524330e+00,  1.44461844e-01])"
      ]
     },
     "execution_count": 29,
     "metadata": {},
     "output_type": "execute_result"
    }
   ],
   "source": [
    "x"
   ]
  },
  {
   "cell_type": "code",
   "execution_count": 33,
   "metadata": {},
   "outputs": [
    {
     "data": {
      "text/plain": [
       "(array([  5.,  19.,  67., 132., 256., 240., 168.,  79.,  29.,   5.]),\n",
       " array([-3.24521609, -2.60480397, -1.96439185, -1.32397973, -0.68356761,\n",
       "        -0.04315549,  0.59725663,  1.23766875,  1.87808087,  2.51849299,\n",
       "         3.15890511]),\n",
       " <a list of 10 Patch objects>)"
      ]
     },
     "execution_count": 33,
     "metadata": {},
     "output_type": "execute_result"
    },
    {
     "data": {
      "image/png": "[encoded data removed]",
      "text/plain": [
       "<Figure size 432x288 with 1 Axes>"
      ]
     },
     "metadata": {
      "needs_background": "light"
     },
     "output_type": "display_data"
    }
   ],
   "source": [
    "plt.hist(x, bins=10, color='yellowgreen' , edgecolor=\"#6A9662\")"
   ]
  },
  {
   "cell_type": "code",
   "execution_count": 34,
   "metadata": {},
   "outputs": [
    {
     "data": {
      "text/plain": [
       "(array([  2.,   3.,   3.,  16.,  23.,  44.,  52.,  80., 112., 144., 125.,\n",
       "        115., 104.,  64.,  45.,  34.,  18.,  11.,   2.,   3.]),\n",
       " array([-3.24521609, -2.92501003, -2.60480397, -2.28459791, -1.96439185,\n",
       "        -1.64418579, -1.32397973, -1.00377367, -0.68356761, -0.36336155,\n",
       "        -0.04315549,  0.27705057,  0.59725663,  0.91746269,  1.23766875,\n",
       "         1.55787481,  1.87808087,  2.19828693,  2.51849299,  2.83869905,\n",
       "         3.15890511]),\n",
       " <a list of 20 Patch objects>)"
      ]
     },
     "execution_count": 34,
     "metadata": {},
     "output_type": "execute_result"
    },
    {
     "data": {
      "image/png": "[encoded data removed]",
      "text/plain": [
       "<Figure size 432x288 with 1 Axes>"
      ]
     },
     "metadata": {
      "needs_background": "light"
     },
     "output_type": "display_data"
    }
   ],
   "source": [
    "plt.hist(x, bins=20, color='yellowgreen' , edgecolor=\"#6A9662\")"
   ]
  },
  {
   "cell_type": "code",
   "execution_count": 35,
   "metadata": {},
   "outputs": [
    {
     "data": {
      "text/plain": [
       "(array([ 2.,  0.,  3.,  2.,  4., 13., 13., 19., 35., 28., 57., 47., 80.,\n",
       "        81., 95., 93., 77., 70., 69., 57., 42., 35., 18., 26., 12., 11.,\n",
       "         6.,  1.,  1.,  3.]),\n",
       " array([-3.24521609, -3.03174538, -2.81827468, -2.60480397, -2.39133326,\n",
       "        -2.17786256, -1.96439185, -1.75092114, -1.53745044, -1.32397973,\n",
       "        -1.11050902, -0.89703832, -0.68356761, -0.4700969 , -0.2566262 ,\n",
       "        -0.04315549,  0.17031522,  0.38378592,  0.59725663,  0.81072734,\n",
       "         1.02419804,  1.23766875,  1.45113946,  1.66461016,  1.87808087,\n",
       "         2.09155158,  2.30502228,  2.51849299,  2.7319637 ,  2.9454344 ,\n",
       "         3.15890511]),\n",
       " <a list of 30 Patch objects>)"
      ]
     },
     "execution_count": 35,
     "metadata": {},
     "output_type": "execute_result"
    },
    {
     "data": {
      "image/png": "[encoded data removed]",
      "text/plain": [
       "<Figure size 432x288 with 1 Axes>"
      ]
     },
     "metadata": {
      "needs_background": "light"
     },
     "output_type": "display_data"
    }
   ],
   "source": [
    "plt.hist(x, bins=30, color='yellowgreen' , edgecolor=\"#6A9662\")"
   ]
  },
  {
   "cell_type": "code",
   "execution_count": 37,
   "metadata": {},
   "outputs": [
    {
     "data": {
      "text/plain": [
       "(array([ 1.,  1.,  0.,  0.,  2.,  1.,  2.,  0.,  1.,  3.,  6.,  7.,  5.,\n",
       "         8., 10.,  9., 20., 15., 11., 17., 24., 33., 21., 26., 38., 42.,\n",
       "        32., 49., 43., 52., 37., 56., 32., 45., 32., 38., 42., 27., 35.,\n",
       "        22., 18., 24., 16., 19., 10.,  8., 12., 14.,  8.,  4.,  6.,  5.,\n",
       "         3.,  3.,  0.,  1.,  1.,  0.,  0.,  3.]),\n",
       " array([-3.24521609, -3.13848074, -3.03174538, -2.92501003, -2.81827468,\n",
       "        -2.71153932, -2.60480397, -2.49806862, -2.39133326, -2.28459791,\n",
       "        -2.17786256, -2.0711272 , -1.96439185, -1.8576565 , -1.75092114,\n",
       "        -1.64418579, -1.53745044, -1.43071508, -1.32397973, -1.21724438,\n",
       "        -1.11050902, -1.00377367, -0.89703832, -0.79030296, -0.68356761,\n",
       "        -0.57683226, -0.4700969 , -0.36336155, -0.2566262 , -0.14989084,\n",
       "        -0.04315549,  0.06357986,  0.17031522,  0.27705057,  0.38378592,\n",
       "         0.49052128,  0.59725663,  0.70399198,  0.81072734,  0.91746269,\n",
       "         1.02419804,  1.1309334 ,  1.23766875,  1.3444041 ,  1.45113946,\n",
       "         1.55787481,  1.66461016,  1.77134552,  1.87808087,  1.98481622,\n",
       "         2.09155158,  2.19828693,  2.30502228,  2.41175764,  2.51849299,\n",
       "         2.62522834,  2.7319637 ,  2.83869905,  2.9454344 ,  3.05216976,\n",
       "         3.15890511]),\n",
       " <a list of 60 Patch objects>)"
      ]
     },
     "execution_count": 37,
     "metadata": {},
     "output_type": "execute_result"
    },
    {
     "data": {
      "image/png": "[encoded data removed]",
      "text/plain": [
       "<Figure size 432x288 with 1 Axes>"
      ]
     },
     "metadata": {
      "needs_background": "light"
     },
     "output_type": "display_data"
    }
   ],
   "source": [
    "plt.hist(x, bins=60, color='yellowgreen' , edgecolor=\"#6A9662\")"
   ]
  },
  {
   "cell_type": "code",
   "execution_count": null,
   "metadata": {},
   "outputs": [],
   "source": []
  }
 ],
 "metadata": {
  "kernelspec": {
   "display_name": "Python 3",
   "language": "python",
   "name": "python3"
  },
  "language_info": {
   "codemirror_mode": {
    "name": "ipython",
    "version": 3
   },
   "file_extension": ".py",
   "mimetype": "text/x-python",
   "name": "python",
   "nbconvert_exporter": "python",
   "pygments_lexer": "ipython3",
   "version": "3.8.3"
  }
 },
 "nbformat": 4,
 "nbformat_minor": 4
}
