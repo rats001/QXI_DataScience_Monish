{
 "cells": [
  {
   "cell_type": "code",
   "execution_count": 1,
   "metadata": {},
   "outputs": [],
   "source": [
    "import glob\n",
    "import numpy as np\n",
    "import pandas as pd"
   ]
  },
  {
   "cell_type": "code",
   "execution_count": 2,
   "metadata": {},
   "outputs": [
    {
     "name": "stdout",
     "output_type": "stream",
     "text": [
      "Enter the path\n",
      "C:/Users/Admin/Data_Science/QXI_DataScience_Monish\\Analytics_Packages2.ipynb\n",
      "C:/Users/Admin/Data_Science/QXI_DataScience_Monish\\Numpy\n",
      "C:/Users/Admin/Data_Science/QXI_DataScience_Monish\\numpy.ipynb\n",
      "C:/Users/Admin/Data_Science/QXI_DataScience_Monish\\Pandas\n",
      "C:/Users/Admin/Data_Science/QXI_DataScience_Monish\\pythonBasic2.ipynb\n",
      "C:/Users/Admin/Data_Science/QXI_DataScience_Monish\\README.md\n",
      "C:/Users/Admin/Data_Science/QXI_DataScience_Monish\\test.txt\n"
     ]
    }
   ],
   "source": [
    "print(\"Enter the path\")\n",
    "for path in glob.glob(\"C:/Users/Admin/Data_Science/QXI_DataScience_Monish/*\"):\n",
    "    print(path)"
   ]
  },
  {
   "cell_type": "code",
   "execution_count": 3,
   "metadata": {},
   "outputs": [],
   "source": [
    "path = glob.glob(\"C:/Users/Admin/Data_Science/QXI_DataScience_Monish/**/*\",recursive=True)"
   ]
  },
  {
   "cell_type": "code",
   "execution_count": 4,
   "metadata": {},
   "outputs": [
    {
     "data": {
      "text/plain": [
       "['C:/Users/Admin/Data_Science/QXI_DataScience_Monish\\\\Analytics_Packages2.ipynb',\n",
       " 'C:/Users/Admin/Data_Science/QXI_DataScience_Monish\\\\Numpy',\n",
       " 'C:/Users/Admin/Data_Science/QXI_DataScience_Monish\\\\numpy.ipynb',\n",
       " 'C:/Users/Admin/Data_Science/QXI_DataScience_Monish\\\\Pandas',\n",
       " 'C:/Users/Admin/Data_Science/QXI_DataScience_Monish\\\\pythonBasic2.ipynb',\n",
       " 'C:/Users/Admin/Data_Science/QXI_DataScience_Monish\\\\README.md',\n",
       " 'C:/Users/Admin/Data_Science/QXI_DataScience_Monish\\\\test.txt',\n",
       " 'C:/Users/Admin/Data_Science/QXI_DataScience_Monish\\\\Numpy\\\\Analytics_Packages2.ipynb',\n",
       " 'C:/Users/Admin/Data_Science/QXI_DataScience_Monish\\\\Numpy\\\\data.csv',\n",
       " 'C:/Users/Admin/Data_Science/QXI_DataScience_Monish\\\\Pandas\\\\coviddata.csv',\n",
       " 'C:/Users/Admin/Data_Science/QXI_DataScience_Monish\\\\Pandas\\\\pandas.ipynb']"
      ]
     },
     "execution_count": 4,
     "metadata": {},
     "output_type": "execute_result"
    }
   ],
   "source": [
    "path"
   ]
  },
  {
   "cell_type": "code",
   "execution_count": 5,
   "metadata": {},
   "outputs": [],
   "source": [
    "arr2 = np.arange(1,10)\n",
    "arr3 = np.array([1,5,6,9,6])"
   ]
  },
  {
   "cell_type": "code",
   "execution_count": 6,
   "metadata": {},
   "outputs": [],
   "source": [
    "df1 = pd.DataFrame({'id':[1,2,3,4,5]})\n",
    "df2 = pd.DataFrame({'id':[3,2,6,7,9]})"
   ]
  },
  {
   "cell_type": "code",
   "execution_count": 7,
   "metadata": {},
   "outputs": [
    {
     "data": {
      "text/html": [
       "<div>\n",
       "<style scoped>\n",
       "    .dataframe tbody tr th:only-of-type {\n",
       "        vertical-align: middle;\n",
       "    }\n",
       "\n",
       "    .dataframe tbody tr th {\n",
       "        vertical-align: top;\n",
       "    }\n",
       "\n",
       "    .dataframe thead th {\n",
       "        text-align: right;\n",
       "    }\n",
       "</style>\n",
       "<table border=\"1\" class=\"dataframe\">\n",
       "  <thead>\n",
       "    <tr style=\"text-align: right;\">\n",
       "      <th></th>\n",
       "      <th>id</th>\n",
       "    </tr>\n",
       "  </thead>\n",
       "  <tbody>\n",
       "    <tr>\n",
       "      <th>0</th>\n",
       "      <td>2</td>\n",
       "    </tr>\n",
       "    <tr>\n",
       "      <th>1</th>\n",
       "      <td>3</td>\n",
       "    </tr>\n",
       "  </tbody>\n",
       "</table>\n",
       "</div>"
      ],
      "text/plain": [
       "   id\n",
       "0   2\n",
       "1   3"
      ]
     },
     "execution_count": 7,
     "metadata": {},
     "output_type": "execute_result"
    }
   ],
   "source": [
    "pd.merge(df1,df2, on='id',how = 'inner')"
   ]
  },
  {
   "cell_type": "markdown",
   "metadata": {},
   "source": [
    "## Covid Report "
   ]
  },
  {
   "cell_type": "code",
   "execution_count": 8,
   "metadata": {},
   "outputs": [
    {
     "name": "stdout",
     "output_type": "stream",
     "text": [
      "            Date Negative  Positive                        State  TotalSamples\n",
      "0     2020-04-17     1210      12.0  Andaman and Nicobar Islands        1403.0\n",
      "1     2020-04-24      NaN      27.0  Andaman and Nicobar Islands        2679.0\n",
      "2     2020-04-27      NaN      33.0  Andaman and Nicobar Islands        2848.0\n",
      "3     2020-05-01      NaN      33.0  Andaman and Nicobar Islands        3754.0\n",
      "4     2020-05-16      NaN      33.0  Andaman and Nicobar Islands        6677.0\n",
      "...          ...      ...       ...                          ...           ...\n",
      "5961  2020-10-02      NaN       NaN                  West Bengal     3314598.0\n",
      "5962  2020-10-03      NaN       NaN                  West Bengal     3355726.0\n",
      "5963  2020-10-04      NaN       NaN                  West Bengal     3397988.0\n",
      "5964  2020-10-05      NaN       NaN                  West Bengal     3438128.0\n",
      "5965  2020-10-06      NaN       NaN                  West Bengal     3480510.0\n",
      "\n",
      "[5966 rows x 5 columns]\n"
     ]
    }
   ],
   "source": [
    "path = 'C:/Users/Admin/Data_Science/QXI_DataScience_Monish/Pandas'\n",
    "filename = glob.glob(path +  '/*csv')\n",
    "# print(filename);\n",
    "covid = pd.DataFrame()\n",
    "for f in filename:\n",
    "    df = pd.read_csv(f)\n",
    "    covid = covid.append(df,ignore_index=True,sort=True)\n",
    "    print(covid)"
   ]
  },
  {
   "cell_type": "code",
   "execution_count": 9,
   "metadata": {},
   "outputs": [],
   "source": [
    "covid['State'].unique();"
   ]
  },
  {
   "cell_type": "code",
   "execution_count": 10,
   "metadata": {},
   "outputs": [
    {
     "data": {
      "text/plain": [
       "Index(['Date', 'Negative', 'Positive', 'State', 'TotalSamples'], dtype='object')"
      ]
     },
     "execution_count": 10,
     "metadata": {},
     "output_type": "execute_result"
    }
   ],
   "source": [
    "covid.columns"
   ]
  },
  {
   "cell_type": "code",
   "execution_count": 11,
   "metadata": {},
   "outputs": [
    {
     "data": {
      "text/plain": [
       "35"
      ]
     },
     "execution_count": 11,
     "metadata": {},
     "output_type": "execute_result"
    }
   ],
   "source": [
    "covid['State'].nunique()"
   ]
  },
  {
   "cell_type": "code",
   "execution_count": 12,
   "metadata": {},
   "outputs": [
    {
     "data": {
      "text/html": [
       "<div>\n",
       "<style scoped>\n",
       "    .dataframe tbody tr th:only-of-type {\n",
       "        vertical-align: middle;\n",
       "    }\n",
       "\n",
       "    .dataframe tbody tr th {\n",
       "        vertical-align: top;\n",
       "    }\n",
       "\n",
       "    .dataframe thead th {\n",
       "        text-align: right;\n",
       "    }\n",
       "</style>\n",
       "<table border=\"1\" class=\"dataframe\">\n",
       "  <thead>\n",
       "    <tr style=\"text-align: right;\">\n",
       "      <th></th>\n",
       "      <th>Date</th>\n",
       "      <th>Negative</th>\n",
       "      <th>Positive</th>\n",
       "      <th>State</th>\n",
       "      <th>TotalSamples</th>\n",
       "    </tr>\n",
       "  </thead>\n",
       "  <tbody>\n",
       "    <tr>\n",
       "      <th>0</th>\n",
       "      <td>2020-04-17</td>\n",
       "      <td>1210</td>\n",
       "      <td>12.0</td>\n",
       "      <td>Andaman and Nicobar Islands</td>\n",
       "      <td>1403.0</td>\n",
       "    </tr>\n",
       "    <tr>\n",
       "      <th>1</th>\n",
       "      <td>2020-04-24</td>\n",
       "      <td>NaN</td>\n",
       "      <td>27.0</td>\n",
       "      <td>Andaman and Nicobar Islands</td>\n",
       "      <td>2679.0</td>\n",
       "    </tr>\n",
       "    <tr>\n",
       "      <th>2</th>\n",
       "      <td>2020-04-27</td>\n",
       "      <td>NaN</td>\n",
       "      <td>33.0</td>\n",
       "      <td>Andaman and Nicobar Islands</td>\n",
       "      <td>2848.0</td>\n",
       "    </tr>\n",
       "    <tr>\n",
       "      <th>3</th>\n",
       "      <td>2020-05-01</td>\n",
       "      <td>NaN</td>\n",
       "      <td>33.0</td>\n",
       "      <td>Andaman and Nicobar Islands</td>\n",
       "      <td>3754.0</td>\n",
       "    </tr>\n",
       "    <tr>\n",
       "      <th>4</th>\n",
       "      <td>2020-05-16</td>\n",
       "      <td>NaN</td>\n",
       "      <td>33.0</td>\n",
       "      <td>Andaman and Nicobar Islands</td>\n",
       "      <td>6677.0</td>\n",
       "    </tr>\n",
       "    <tr>\n",
       "      <th>5</th>\n",
       "      <td>2020-05-19</td>\n",
       "      <td>NaN</td>\n",
       "      <td>33.0</td>\n",
       "      <td>Andaman and Nicobar Islands</td>\n",
       "      <td>6965.0</td>\n",
       "    </tr>\n",
       "    <tr>\n",
       "      <th>6</th>\n",
       "      <td>2020-05-20</td>\n",
       "      <td>NaN</td>\n",
       "      <td>33.0</td>\n",
       "      <td>Andaman and Nicobar Islands</td>\n",
       "      <td>7082.0</td>\n",
       "    </tr>\n",
       "    <tr>\n",
       "      <th>7</th>\n",
       "      <td>2020-05-21</td>\n",
       "      <td>NaN</td>\n",
       "      <td>33.0</td>\n",
       "      <td>Andaman and Nicobar Islands</td>\n",
       "      <td>7167.0</td>\n",
       "    </tr>\n",
       "    <tr>\n",
       "      <th>8</th>\n",
       "      <td>2020-05-22</td>\n",
       "      <td>NaN</td>\n",
       "      <td>33.0</td>\n",
       "      <td>Andaman and Nicobar Islands</td>\n",
       "      <td>7263.0</td>\n",
       "    </tr>\n",
       "    <tr>\n",
       "      <th>9</th>\n",
       "      <td>2020-05-23</td>\n",
       "      <td>NaN</td>\n",
       "      <td>33.0</td>\n",
       "      <td>Andaman and Nicobar Islands</td>\n",
       "      <td>7327.0</td>\n",
       "    </tr>\n",
       "  </tbody>\n",
       "</table>\n",
       "</div>"
      ],
      "text/plain": [
       "         Date Negative  Positive                        State  TotalSamples\n",
       "0  2020-04-17     1210      12.0  Andaman and Nicobar Islands        1403.0\n",
       "1  2020-04-24      NaN      27.0  Andaman and Nicobar Islands        2679.0\n",
       "2  2020-04-27      NaN      33.0  Andaman and Nicobar Islands        2848.0\n",
       "3  2020-05-01      NaN      33.0  Andaman and Nicobar Islands        3754.0\n",
       "4  2020-05-16      NaN      33.0  Andaman and Nicobar Islands        6677.0\n",
       "5  2020-05-19      NaN      33.0  Andaman and Nicobar Islands        6965.0\n",
       "6  2020-05-20      NaN      33.0  Andaman and Nicobar Islands        7082.0\n",
       "7  2020-05-21      NaN      33.0  Andaman and Nicobar Islands        7167.0\n",
       "8  2020-05-22      NaN      33.0  Andaman and Nicobar Islands        7263.0\n",
       "9  2020-05-23      NaN      33.0  Andaman and Nicobar Islands        7327.0"
      ]
     },
     "execution_count": 12,
     "metadata": {},
     "output_type": "execute_result"
    }
   ],
   "source": [
    "covid.head(10)"
   ]
  },
  {
   "cell_type": "code",
   "execution_count": 13,
   "metadata": {},
   "outputs": [
    {
     "data": {
      "text/plain": [
       "0       False\n",
       "1       False\n",
       "2       False\n",
       "3       False\n",
       "4       False\n",
       "        ...  \n",
       "5961     True\n",
       "5962     True\n",
       "5963     True\n",
       "5964     True\n",
       "5965     True\n",
       "Name: State, Length: 5966, dtype: bool"
      ]
     },
     "execution_count": 13,
     "metadata": {},
     "output_type": "execute_result"
    }
   ],
   "source": [
    "covid['State'] =='West Bengal'"
   ]
  },
  {
   "cell_type": "code",
   "execution_count": 14,
   "metadata": {},
   "outputs": [
    {
     "data": {
      "text/html": [
       "<div>\n",
       "<style scoped>\n",
       "    .dataframe tbody tr th:only-of-type {\n",
       "        vertical-align: middle;\n",
       "    }\n",
       "\n",
       "    .dataframe tbody tr th {\n",
       "        vertical-align: top;\n",
       "    }\n",
       "\n",
       "    .dataframe thead th {\n",
       "        text-align: right;\n",
       "    }\n",
       "</style>\n",
       "<table border=\"1\" class=\"dataframe\">\n",
       "  <thead>\n",
       "    <tr style=\"text-align: right;\">\n",
       "      <th></th>\n",
       "      <th>Date</th>\n",
       "      <th>Negative</th>\n",
       "      <th>Positive</th>\n",
       "      <th>State</th>\n",
       "      <th>TotalSamples</th>\n",
       "    </tr>\n",
       "  </thead>\n",
       "  <tbody>\n",
       "    <tr>\n",
       "      <th>5781</th>\n",
       "      <td>2020-04-01</td>\n",
       "      <td>568</td>\n",
       "      <td>37.0</td>\n",
       "      <td>West Bengal</td>\n",
       "      <td>659.0</td>\n",
       "    </tr>\n",
       "    <tr>\n",
       "      <th>5782</th>\n",
       "      <td>2020-04-04</td>\n",
       "      <td>NaN</td>\n",
       "      <td>NaN</td>\n",
       "      <td>West Bengal</td>\n",
       "      <td>1042.0</td>\n",
       "    </tr>\n",
       "    <tr>\n",
       "      <th>5783</th>\n",
       "      <td>2020-04-06</td>\n",
       "      <td>NaN</td>\n",
       "      <td>NaN</td>\n",
       "      <td>West Bengal</td>\n",
       "      <td>1301.0</td>\n",
       "    </tr>\n",
       "    <tr>\n",
       "      <th>5784</th>\n",
       "      <td>2020-04-07</td>\n",
       "      <td>NaN</td>\n",
       "      <td>NaN</td>\n",
       "      <td>West Bengal</td>\n",
       "      <td>1487.0</td>\n",
       "    </tr>\n",
       "    <tr>\n",
       "      <th>5785</th>\n",
       "      <td>2020-04-09</td>\n",
       "      <td>NaN</td>\n",
       "      <td>NaN</td>\n",
       "      <td>West Bengal</td>\n",
       "      <td>1889.0</td>\n",
       "    </tr>\n",
       "    <tr>\n",
       "      <th>...</th>\n",
       "      <td>...</td>\n",
       "      <td>...</td>\n",
       "      <td>...</td>\n",
       "      <td>...</td>\n",
       "      <td>...</td>\n",
       "    </tr>\n",
       "    <tr>\n",
       "      <th>5961</th>\n",
       "      <td>2020-10-02</td>\n",
       "      <td>NaN</td>\n",
       "      <td>NaN</td>\n",
       "      <td>West Bengal</td>\n",
       "      <td>3314598.0</td>\n",
       "    </tr>\n",
       "    <tr>\n",
       "      <th>5962</th>\n",
       "      <td>2020-10-03</td>\n",
       "      <td>NaN</td>\n",
       "      <td>NaN</td>\n",
       "      <td>West Bengal</td>\n",
       "      <td>3355726.0</td>\n",
       "    </tr>\n",
       "    <tr>\n",
       "      <th>5963</th>\n",
       "      <td>2020-10-04</td>\n",
       "      <td>NaN</td>\n",
       "      <td>NaN</td>\n",
       "      <td>West Bengal</td>\n",
       "      <td>3397988.0</td>\n",
       "    </tr>\n",
       "    <tr>\n",
       "      <th>5964</th>\n",
       "      <td>2020-10-05</td>\n",
       "      <td>NaN</td>\n",
       "      <td>NaN</td>\n",
       "      <td>West Bengal</td>\n",
       "      <td>3438128.0</td>\n",
       "    </tr>\n",
       "    <tr>\n",
       "      <th>5965</th>\n",
       "      <td>2020-10-06</td>\n",
       "      <td>NaN</td>\n",
       "      <td>NaN</td>\n",
       "      <td>West Bengal</td>\n",
       "      <td>3480510.0</td>\n",
       "    </tr>\n",
       "  </tbody>\n",
       "</table>\n",
       "<p>185 rows × 5 columns</p>\n",
       "</div>"
      ],
      "text/plain": [
       "            Date Negative  Positive        State  TotalSamples\n",
       "5781  2020-04-01      568      37.0  West Bengal         659.0\n",
       "5782  2020-04-04      NaN       NaN  West Bengal        1042.0\n",
       "5783  2020-04-06      NaN       NaN  West Bengal        1301.0\n",
       "5784  2020-04-07      NaN       NaN  West Bengal        1487.0\n",
       "5785  2020-04-09      NaN       NaN  West Bengal        1889.0\n",
       "...          ...      ...       ...          ...           ...\n",
       "5961  2020-10-02      NaN       NaN  West Bengal     3314598.0\n",
       "5962  2020-10-03      NaN       NaN  West Bengal     3355726.0\n",
       "5963  2020-10-04      NaN       NaN  West Bengal     3397988.0\n",
       "5964  2020-10-05      NaN       NaN  West Bengal     3438128.0\n",
       "5965  2020-10-06      NaN       NaN  West Bengal     3480510.0\n",
       "\n",
       "[185 rows x 5 columns]"
      ]
     },
     "execution_count": 14,
     "metadata": {},
     "output_type": "execute_result"
    }
   ],
   "source": [
    "covid.loc[covid['State']=='West Bengal']"
   ]
  },
  {
   "cell_type": "code",
   "execution_count": 15,
   "metadata": {},
   "outputs": [
    {
     "name": "stdout",
     "output_type": "stream",
     "text": [
      "<class 'pandas.core.frame.DataFrame'>\n",
      "RangeIndex: 5966 entries, 0 to 5965\n",
      "Data columns (total 5 columns):\n",
      " #   Column        Non-Null Count  Dtype  \n",
      "---  ------        --------------  -----  \n",
      " 0   Date          5966 non-null   object \n",
      " 1   Negative      3418 non-null   object \n",
      " 2   Positive      4494 non-null   float64\n",
      " 3   State         5966 non-null   object \n",
      " 4   TotalSamples  5966 non-null   float64\n",
      "dtypes: float64(2), object(3)\n",
      "memory usage: 233.2+ KB\n"
     ]
    }
   ],
   "source": [
    "covid.info()"
   ]
  },
  {
   "cell_type": "code",
   "execution_count": 16,
   "metadata": {},
   "outputs": [
    {
     "data": {
      "text/plain": [
       "0                    Andaman and Nicobar Islands\n",
       "145                               Andhra Pradesh\n",
       "325                            Arunachal Pradesh\n",
       "495                                        Assam\n",
       "656                                        Bihar\n",
       "837                                   Chandigarh\n",
       "1017                                Chhattisgarh\n",
       "1191    Dadra and Nagar Haveli and Daman and Diu\n",
       "1341                                       Delhi\n",
       "1522                                         Goa\n",
       "Name: State, dtype: object"
      ]
     },
     "execution_count": 16,
     "metadata": {},
     "output_type": "execute_result"
    }
   ],
   "source": [
    "covid['State'].drop_duplicates(keep='first').head(10)"
   ]
  },
  {
   "cell_type": "code",
   "execution_count": 17,
   "metadata": {},
   "outputs": [],
   "source": [
    "countries = covid['State'].unique()"
   ]
  },
  {
   "cell_type": "code",
   "execution_count": 18,
   "metadata": {},
   "outputs": [
    {
     "data": {
      "text/plain": [
       "(numpy.ndarray,\n",
       " array(['Andaman and Nicobar Islands', 'Andhra Pradesh',\n",
       "        'Arunachal Pradesh', 'Assam', 'Bihar', 'Chandigarh',\n",
       "        'Chhattisgarh', 'Dadra and Nagar Haveli and Daman and Diu',\n",
       "        'Delhi', 'Goa', 'Gujarat', 'Haryana', 'Himachal Pradesh',\n",
       "        'Jammu and Kashmir', 'Jharkhand', 'Karnataka', 'Kerala', 'Ladakh',\n",
       "        'Madhya Pradesh', 'Maharashtra', 'Manipur', 'Meghalaya', 'Mizoram',\n",
       "        'Nagaland', 'Odisha', 'Puducherry', 'Punjab', 'Rajasthan',\n",
       "        'Sikkim', 'Tamil Nadu', 'Telangana', 'Tripura', 'Uttar Pradesh',\n",
       "        'Uttarakhand', 'West Bengal'], dtype=object))"
      ]
     },
     "execution_count": 18,
     "metadata": {},
     "output_type": "execute_result"
    }
   ],
   "source": [
    "type(countries),countries"
   ]
  },
  {
   "cell_type": "code",
   "execution_count": 22,
   "metadata": {},
   "outputs": [
    {
     "data": {
      "text/plain": [
       "Date               0\n",
       "Negative        2548\n",
       "Positive        1472\n",
       "State              0\n",
       "TotalSamples       0\n",
       "dtype: int64"
      ]
     },
     "execution_count": 22,
     "metadata": {},
     "output_type": "execute_result"
    }
   ],
   "source": [
    "covid.isnull().sum()"
   ]
  },
  {
   "cell_type": "code",
   "execution_count": 23,
   "metadata": {},
   "outputs": [
    {
     "data": {
      "text/html": [
       "<div>\n",
       "<style scoped>\n",
       "    .dataframe tbody tr th:only-of-type {\n",
       "        vertical-align: middle;\n",
       "    }\n",
       "\n",
       "    .dataframe tbody tr th {\n",
       "        vertical-align: top;\n",
       "    }\n",
       "\n",
       "    .dataframe thead th {\n",
       "        text-align: right;\n",
       "    }\n",
       "</style>\n",
       "<table border=\"1\" class=\"dataframe\">\n",
       "  <thead>\n",
       "    <tr style=\"text-align: right;\">\n",
       "      <th></th>\n",
       "      <th>Date</th>\n",
       "      <th>Negative</th>\n",
       "      <th>Positive</th>\n",
       "      <th>State</th>\n",
       "      <th>TotalSamples</th>\n",
       "    </tr>\n",
       "  </thead>\n",
       "  <tbody>\n",
       "    <tr>\n",
       "      <th>0</th>\n",
       "      <td>False</td>\n",
       "      <td>False</td>\n",
       "      <td>False</td>\n",
       "      <td>False</td>\n",
       "      <td>False</td>\n",
       "    </tr>\n",
       "    <tr>\n",
       "      <th>1</th>\n",
       "      <td>False</td>\n",
       "      <td>True</td>\n",
       "      <td>False</td>\n",
       "      <td>False</td>\n",
       "      <td>False</td>\n",
       "    </tr>\n",
       "    <tr>\n",
       "      <th>2</th>\n",
       "      <td>False</td>\n",
       "      <td>True</td>\n",
       "      <td>False</td>\n",
       "      <td>False</td>\n",
       "      <td>False</td>\n",
       "    </tr>\n",
       "    <tr>\n",
       "      <th>3</th>\n",
       "      <td>False</td>\n",
       "      <td>True</td>\n",
       "      <td>False</td>\n",
       "      <td>False</td>\n",
       "      <td>False</td>\n",
       "    </tr>\n",
       "    <tr>\n",
       "      <th>4</th>\n",
       "      <td>False</td>\n",
       "      <td>True</td>\n",
       "      <td>False</td>\n",
       "      <td>False</td>\n",
       "      <td>False</td>\n",
       "    </tr>\n",
       "    <tr>\n",
       "      <th>...</th>\n",
       "      <td>...</td>\n",
       "      <td>...</td>\n",
       "      <td>...</td>\n",
       "      <td>...</td>\n",
       "      <td>...</td>\n",
       "    </tr>\n",
       "    <tr>\n",
       "      <th>5961</th>\n",
       "      <td>False</td>\n",
       "      <td>True</td>\n",
       "      <td>True</td>\n",
       "      <td>False</td>\n",
       "      <td>False</td>\n",
       "    </tr>\n",
       "    <tr>\n",
       "      <th>5962</th>\n",
       "      <td>False</td>\n",
       "      <td>True</td>\n",
       "      <td>True</td>\n",
       "      <td>False</td>\n",
       "      <td>False</td>\n",
       "    </tr>\n",
       "    <tr>\n",
       "      <th>5963</th>\n",
       "      <td>False</td>\n",
       "      <td>True</td>\n",
       "      <td>True</td>\n",
       "      <td>False</td>\n",
       "      <td>False</td>\n",
       "    </tr>\n",
       "    <tr>\n",
       "      <th>5964</th>\n",
       "      <td>False</td>\n",
       "      <td>True</td>\n",
       "      <td>True</td>\n",
       "      <td>False</td>\n",
       "      <td>False</td>\n",
       "    </tr>\n",
       "    <tr>\n",
       "      <th>5965</th>\n",
       "      <td>False</td>\n",
       "      <td>True</td>\n",
       "      <td>True</td>\n",
       "      <td>False</td>\n",
       "      <td>False</td>\n",
       "    </tr>\n",
       "  </tbody>\n",
       "</table>\n",
       "<p>5966 rows × 5 columns</p>\n",
       "</div>"
      ],
      "text/plain": [
       "       Date  Negative  Positive  State  TotalSamples\n",
       "0     False     False     False  False         False\n",
       "1     False      True     False  False         False\n",
       "2     False      True     False  False         False\n",
       "3     False      True     False  False         False\n",
       "4     False      True     False  False         False\n",
       "...     ...       ...       ...    ...           ...\n",
       "5961  False      True      True  False         False\n",
       "5962  False      True      True  False         False\n",
       "5963  False      True      True  False         False\n",
       "5964  False      True      True  False         False\n",
       "5965  False      True      True  False         False\n",
       "\n",
       "[5966 rows x 5 columns]"
      ]
     },
     "execution_count": 23,
     "metadata": {},
     "output_type": "execute_result"
    }
   ],
   "source": [
    "covid.isnull()"
   ]
  },
  {
   "cell_type": "code",
   "execution_count": 24,
   "metadata": {},
   "outputs": [
    {
     "data": {
      "text/plain": [
       "0       1210\n",
       "1        100\n",
       "2        100\n",
       "3        100\n",
       "4        100\n",
       "        ... \n",
       "5961     100\n",
       "5962     100\n",
       "5963     100\n",
       "5964     100\n",
       "5965     100\n",
       "Name: Negative, Length: 5966, dtype: object"
      ]
     },
     "execution_count": 24,
     "metadata": {},
     "output_type": "execute_result"
    }
   ],
   "source": [
    "covid['Negative'].fillna(100)"
   ]
  },
  {
   "cell_type": "code",
   "execution_count": 26,
   "metadata": {},
   "outputs": [
    {
     "data": {
      "text/plain": [
       "Date               0\n",
       "Negative        2548\n",
       "Positive        1472\n",
       "State              0\n",
       "TotalSamples       0\n",
       "dtype: int64"
      ]
     },
     "execution_count": 26,
     "metadata": {},
     "output_type": "execute_result"
    }
   ],
   "source": [
    "covid.isnull().sum()"
   ]
  },
  {
   "cell_type": "code",
   "execution_count": 32,
   "metadata": {},
   "outputs": [
    {
     "data": {
      "text/plain": [
       "<bound method DataFrame.corr of             Date Negative  Positive                        State  TotalSamples\n",
       "0     2020-04-17     1210      12.0  Andaman and Nicobar Islands        1403.0\n",
       "1     2020-04-24      NaN      27.0  Andaman and Nicobar Islands        2679.0\n",
       "2     2020-04-27      NaN      33.0  Andaman and Nicobar Islands        2848.0\n",
       "3     2020-05-01      NaN      33.0  Andaman and Nicobar Islands        3754.0\n",
       "4     2020-05-16      NaN      33.0  Andaman and Nicobar Islands        6677.0\n",
       "...          ...      ...       ...                          ...           ...\n",
       "5961  2020-10-02      NaN       NaN                  West Bengal     3314598.0\n",
       "5962  2020-10-03      NaN       NaN                  West Bengal     3355726.0\n",
       "5963  2020-10-04      NaN       NaN                  West Bengal     3397988.0\n",
       "5964  2020-10-05      NaN       NaN                  West Bengal     3438128.0\n",
       "5965  2020-10-06      NaN       NaN                  West Bengal     3480510.0\n",
       "\n",
       "[5966 rows x 5 columns]>"
      ]
     },
     "execution_count": 32,
     "metadata": {},
     "output_type": "execute_result"
    }
   ],
   "source": [
    "covid.corr"
   ]
  },
  {
   "cell_type": "code",
   "execution_count": 43,
   "metadata": {},
   "outputs": [],
   "source": [
    "meanss = covid.Negative.median"
   ]
  },
  {
   "cell_type": "code",
   "execution_count": 50,
   "metadata": {},
   "outputs": [],
   "source": [
    "covid.fillna(meanss,inplace=True)"
   ]
  },
  {
   "cell_type": "code",
   "execution_count": 51,
   "metadata": {},
   "outputs": [
    {
     "data": {
      "text/plain": [
       "Date            0\n",
       "Negative        0\n",
       "Positive        0\n",
       "State           0\n",
       "TotalSamples    0\n",
       "dtype: int64"
      ]
     },
     "execution_count": 51,
     "metadata": {},
     "output_type": "execute_result"
    }
   ],
   "source": [
    "covid.isnull().sum()"
   ]
  },
  {
   "cell_type": "code",
   "execution_count": null,
   "metadata": {},
   "outputs": [],
   "source": []
  }
 ],
 "metadata": {
  "kernelspec": {
   "display_name": "Python 3",
   "language": "python",
   "name": "python3"
  },
  "language_info": {
   "codemirror_mode": {
    "name": "ipython",
    "version": 3
   },
   "file_extension": ".py",
   "mimetype": "text/x-python",
   "name": "python",
   "nbconvert_exporter": "python",
   "pygments_lexer": "ipython3",
   "version": "3.7.7"
  }
 },
 "nbformat": 4,
 "nbformat_minor": 4
}
